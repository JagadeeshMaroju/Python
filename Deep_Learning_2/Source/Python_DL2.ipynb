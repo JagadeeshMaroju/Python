{
 "cells": [
  {
   "cell_type": "code",
   "execution_count": 1,
   "metadata": {},
   "outputs": [
    {
     "name": "stdout",
     "output_type": "stream",
     "text": [
      "Downloading data from https://storage.googleapis.com/tensorflow/tf-keras-datasets/mnist.npz\n",
      "11493376/11490434 [==============================] - 1s 0us/step\n",
      "Epoch 1/20\n",
      "235/235 [==============================] - 10s 43ms/step - loss: 0.2684 - accuracy: 0.9173 - val_loss: 0.1525 - val_accuracy: 0.9499\n",
      "Epoch 2/20\n",
      "235/235 [==============================] - 9s 38ms/step - loss: 0.0920 - accuracy: 0.9720 - val_loss: 0.0846 - val_accuracy: 0.9738\n",
      "Epoch 3/20\n",
      "235/235 [==============================] - 10s 43ms/step - loss: 0.0582 - accuracy: 0.9818 - val_loss: 0.0728 - val_accuracy: 0.9768\n",
      "Epoch 4/20\n",
      "235/235 [==============================] - 12s 51ms/step - loss: 0.0397 - accuracy: 0.9876 - val_loss: 0.0715 - val_accuracy: 0.9793\n",
      "Epoch 5/20\n",
      "235/235 [==============================] - 11s 48ms/step - loss: 0.0282 - accuracy: 0.9910 - val_loss: 0.0680 - val_accuracy: 0.9799\n",
      "Epoch 6/20\n",
      "235/235 [==============================] - 9s 40ms/step - loss: 0.0218 - accuracy: 0.9931 - val_loss: 0.0809 - val_accuracy: 0.9800\n",
      "Epoch 7/20\n",
      "235/235 [==============================] - 10s 43ms/step - loss: 0.0173 - accuracy: 0.9944 - val_loss: 0.0814 - val_accuracy: 0.9791\n",
      "Epoch 8/20\n",
      "235/235 [==============================] - 10s 43ms/step - loss: 0.0133 - accuracy: 0.9957 - val_loss: 0.0868 - val_accuracy: 0.9797\n",
      "Epoch 9/20\n",
      "235/235 [==============================] - 9s 40ms/step - loss: 0.0115 - accuracy: 0.9962 - val_loss: 0.0997 - val_accuracy: 0.9787\n",
      "Epoch 10/20\n",
      "235/235 [==============================] - 10s 42ms/step - loss: 0.0089 - accuracy: 0.9971 - val_loss: 0.0948 - val_accuracy: 0.9803\n",
      "Epoch 11/20\n",
      "235/235 [==============================] - 9s 40ms/step - loss: 0.0081 - accuracy: 0.9972 - val_loss: 0.1104 - val_accuracy: 0.9782\n",
      "Epoch 12/20\n",
      "235/235 [==============================] - 9s 39ms/step - loss: 0.0082 - accuracy: 0.9972 - val_loss: 0.0969 - val_accuracy: 0.9824\n",
      "Epoch 13/20\n",
      "235/235 [==============================] - 11s 47ms/step - loss: 0.0068 - accuracy: 0.9976 - val_loss: 0.0913 - val_accuracy: 0.9838\n",
      "Epoch 14/20\n",
      "235/235 [==============================] - 10s 41ms/step - loss: 0.0051 - accuracy: 0.9982 - val_loss: 0.1311 - val_accuracy: 0.9784\n",
      "Epoch 15/20\n",
      "235/235 [==============================] - 9s 40ms/step - loss: 0.0053 - accuracy: 0.9983 - val_loss: 0.1049 - val_accuracy: 0.9837\n",
      "Epoch 16/20\n",
      "235/235 [==============================] - 9s 40ms/step - loss: 0.0059 - accuracy: 0.9983 - val_loss: 0.1129 - val_accuracy: 0.9817\n",
      "Epoch 17/20\n",
      "235/235 [==============================] - 9s 39ms/step - loss: 0.0042 - accuracy: 0.9987 - val_loss: 0.1214 - val_accuracy: 0.9830\n",
      "Epoch 18/20\n",
      "235/235 [==============================] - 9s 39ms/step - loss: 0.0040 - accuracy: 0.9988 - val_loss: 0.1304 - val_accuracy: 0.9816\n",
      "Epoch 19/20\n",
      "235/235 [==============================] - 9s 39ms/step - loss: 0.0031 - accuracy: 0.9988 - val_loss: 0.1309 - val_accuracy: 0.9823\n",
      "Epoch 20/20\n",
      "235/235 [==============================] - 9s 40ms/step - loss: 0.0038 - accuracy: 0.9991 - val_loss: 0.1282 - val_accuracy: 0.9828\n",
      "313/313 [==============================] - 1s 4ms/step - loss: 0.1282 - accuracy: 0.9828\n",
      "Evaluation result on Test Data : Loss = 0.12819282710552216, accuracy = 0.9828000068664551\n"
     ]
    },
    {
     "data": {
      "image/png": "[encoded data removed]",
      "text/plain": [
       "<Figure size 432x288 with 1 Axes>"
      ]
     },
     "metadata": {
      "needs_background": "light"
     },
     "output_type": "display_data"
    }
   ],
   "source": [
    "from keras import Sequential\n",
    "from keras.datasets import mnist\n",
    "import numpy as np\n",
    "import matplotlib.pyplot as plt\n",
    "from keras.layers import Dense\n",
    "from keras.utils import to_categorical\n",
    "\n",
    "(train_images,train_labels),(test_images, test_labels) = mnist.load_data()\n",
    "#display the first image in the training data\n",
    "plt.imshow(train_images[0,:,:],cmap='gray')\n",
    "plt.title('Ground Truth : {}'.format(train_labels[0]))\n",
    "# plt.show()\n",
    "\n",
    "#process the data\n",
    "#1. convert each image of shape 28*28 to 784 dimensional which will be fed to the network as a single feature\n",
    "dimData = np.prod(train_images.shape[1:])\n",
    "train_data = train_images.reshape(train_images.shape[0],dimData)\n",
    "test_data = test_images.reshape(test_images.shape[0],dimData)\n",
    "\n",
    "#convert data to float and scale values between 0 and 1\n",
    "train_data = train_data.astype('float')\n",
    "test_data = test_data.astype('float')\n",
    "#scale data\n",
    "train_data /=255.0\n",
    "test_data /=255.0\n",
    "#change the labels frominteger to one-hot encoding\n",
    "train_labels_one_hot = to_categorical(train_labels)\n",
    "test_labels_one_hot = to_categorical(test_labels)\n",
    "\n",
    "#creating network\n",
    "model = Sequential()\n",
    "model.add(Dense(512, activation='relu', input_shape=(dimData,)))\n",
    "model.add(Dense(512, activation='relu'))\n",
    "model.add(Dense(10, activation='softmax'))\n",
    "\n",
    "model.compile(optimizer='rmsprop', loss='categorical_crossentropy', metrics=['accuracy'])\n",
    "history = model.fit(train_data, train_labels_one_hot, batch_size=256, epochs=20, verbose=1,\n",
    "                   validation_data=(test_data, test_labels_one_hot))\n",
    "\n",
    "[test_loss, test_acc] = model.evaluate(test_data, test_labels_one_hot)\n",
    "print(\"Evaluation result on Test Data : Loss = {}, accuracy = {}\".format(test_loss, test_acc))\n"
   ]
  },
  {
   "cell_type": "code",
   "execution_count": 7,
   "metadata": {},
   "outputs": [
    {
     "data": {
      "image/png": "[encoded data removed]",
      "text/plain": [
       "<Figure size 432x288 with 1 Axes>"
      ]
     },
     "metadata": {
      "needs_background": "light"
     },
     "output_type": "display_data"
    },
    {
     "data": {
      "image/png": "[encoded data removed]",
      "text/plain": [
       "<Figure size 432x288 with 1 Axes>"
      ]
     },
     "metadata": {
      "needs_background": "light"
     },
     "output_type": "display_data"
    }
   ],
   "source": [
    "#1st question\n",
    "#accuracy graph\n",
    "plt.plot(history.history['accuracy'])\n",
    "plt.plot(history.history['val_accuracy'])\n",
    "plt.title('accuracy plot')\n",
    "plt.ylabel('accuracy')\n",
    "plt.xlabel('epoch')\n",
    "plt.legend(['train', 'test'])\n",
    "plt.show()\n",
    "\n",
    "#loss graph\n",
    "plt.plot(history.history['loss'])\n",
    "plt.plot(history.history['val_loss'])\n",
    "plt.title('loss plot')\n",
    "plt.ylabel('loss')\n",
    "plt.xlabel('epoch')\n",
    "plt.legend(['train', 'test'])\n",
    "plt.show()"
   ]
  },
  {
   "cell_type": "code",
   "execution_count": 15,
   "metadata": {},
   "outputs": [
    {
     "name": "stdout",
     "output_type": "stream",
     "text": [
      "[[3.0090300e-10 9.0578109e-12 3.2524167e-16 4.3355824e-10 7.6995290e-09\n",
      "  1.0447195e-07 4.3428256e-17 6.6269897e-02 3.4541695e-10 9.3373001e-01]]\n",
      "[9]\n"
     ]
    },
    {
     "data": {
      "image/png": "[encoded data removed]",
      "text/plain": [
       "<Figure size 432x288 with 1 Axes>"
      ]
     },
     "metadata": {
      "needs_background": "light"
     },
     "output_type": "display_data"
    }
   ],
   "source": [
    "#2nd question\n",
    "#loading and predicting the model\n",
    "predictions = model.predict(test_data[[20],:])\n",
    "print(predictions)\n",
    "\n",
    "predict_classes = model.predict_classes(test_data[[20],:])\n",
    "print(predict_classes)\n",
    "\n",
    "plt.imshow(test_images[20], cmap = 'gray')\n",
    "plt.title(\"This is:\" + str(predict_classes[0]))\n",
    "plt.show()"
   ]
  },
  {
   "cell_type": "code",
   "execution_count": 28,
   "metadata": {},
   "outputs": [
    {
     "name": "stdout",
     "output_type": "stream",
     "text": [
      "Epoch 1/5\n",
      "235/235 [==============================] - 14s 61ms/step - loss: 0.4198 - accuracy: 0.8990 - val_loss: 0.1400 - val_accuracy: 0.9602\n",
      "Epoch 2/5\n",
      "235/235 [==============================] - 17s 73ms/step - loss: 0.1120 - accuracy: 0.9692 - val_loss: 0.0981 - val_accuracy: 0.9727\n",
      "Epoch 3/5\n",
      "235/235 [==============================] - 9s 40ms/step - loss: 0.0698 - accuracy: 0.9804 - val_loss: 0.0886 - val_accuracy: 0.9744\n",
      "Epoch 4/5\n",
      "235/235 [==============================] - 11s 45ms/step - loss: 0.0504 - accuracy: 0.9857 - val_loss: 0.0882 - val_accuracy: 0.9753\n",
      "Epoch 5/5\n",
      "235/235 [==============================] - 13s 57ms/step - loss: 0.0387 - accuracy: 0.9889 - val_loss: 0.0689 - val_accuracy: 0.9810\n",
      "313/313 [==============================] - 2s 7ms/step - loss: 0.0689 - accuracy: 0.9810\n",
      "Evaluation result on Test Data : Loss = 0.06885509192943573, accuracy = 0.9810000061988831\n"
     ]
    }
   ],
   "source": [
    "#3rd question\n",
    "# from keras import Sequential\n",
    "# from keras.datasets import mnist\n",
    "# import numpy as np\n",
    "# import matplotlib.pyplot as plt\n",
    "# from keras.layers import Dense\n",
    "# from keras.utils import to_categorical\n",
    "\n",
    "(train_images,train_labels),(test_images, test_labels) = mnist.load_data()\n",
    "\n",
    "\n",
    "#process the data\n",
    "#1. convert each image of shape 28*28 to 784 dimensional which will be fed to the network as a single feature\n",
    "dimData = np.prod(train_images.shape[1:])\n",
    "train_data = train_images.reshape(train_images.shape[0],dimData)\n",
    "test_data = test_images.reshape(test_images.shape[0],dimData)\n",
    "\n",
    "#convert data to float and scale values between 0 and 1\n",
    "train_data = train_data.astype('float')\n",
    "test_data = test_data.astype('float')\n",
    "\n",
    "#scale data\n",
    "train_data /=255.0\n",
    "test_data /=255.0\n",
    "#change the labels frominteger to one-hot encoding\n",
    "train_labels_one_hot = to_categorical(train_labels)\n",
    "test_labels_one_hot = to_categorical(test_labels)\n",
    "\n",
    "#creating network\n",
    "# Adding hidden layers\n",
    "model = Sequential()\n",
    "model.add(Dense(512, activation='relu', input_shape=(dimData,)))\n",
    "model.add(Dense(512, activation='relu'))\n",
    "model.add(Dense(100, activation='tanh'))\n",
    "model.add(Dense(60, activation='sigmoid'))\n",
    "model.add(Dense(10, activation='softmax'))\n",
    "\n",
    "model.compile(optimizer='rmsprop', loss='categorical_crossentropy', metrics=['accuracy'])\n",
    "history = model.fit(train_data, train_labels_one_hot, batch_size=256, epochs=5, verbose=1,\n",
    "                   validation_data=(test_data, test_labels_one_hot))\n",
    "\n",
    "[test_loss, test_acc] = model.evaluate(test_data, test_labels_one_hot)\n",
    "print(\"Evaluation result on Test Data : Loss = {}, accuracy = {}\".format(test_loss, test_acc))\n"
   ]
  },
  {
   "cell_type": "code",
   "execution_count": 27,
   "metadata": {},
   "outputs": [
    {
     "name": "stdout",
     "output_type": "stream",
     "text": [
      "Epoch 1/20\n",
      "235/235 [==============================] - 9s 39ms/step - loss: 7.2058 - accuracy: 0.8697 - val_loss: 1.0525 - val_accuracy: 0.8992\n",
      "Epoch 2/20\n",
      "235/235 [==============================] - 11s 46ms/step - loss: 0.4207 - accuracy: 0.9470 - val_loss: 0.6440 - val_accuracy: 0.9229\n",
      "Epoch 3/20\n",
      "235/235 [==============================] - 12s 52ms/step - loss: 0.2464 - accuracy: 0.9617 - val_loss: 0.3732 - val_accuracy: 0.9499\n",
      "Epoch 4/20\n",
      "235/235 [==============================] - 15s 64ms/step - loss: 0.1865 - accuracy: 0.9686 - val_loss: 0.2719 - val_accuracy: 0.9584\n",
      "Epoch 5/20\n",
      "235/235 [==============================] - 14s 61ms/step - loss: 0.1587 - accuracy: 0.9726 - val_loss: 0.4401 - val_accuracy: 0.9534\n",
      "Epoch 6/20\n",
      "235/235 [==============================] - 12s 50ms/step - loss: 0.1495 - accuracy: 0.9758 - val_loss: 0.3495 - val_accuracy: 0.9659\n",
      "Epoch 7/20\n",
      "235/235 [==============================] - 10s 41ms/step - loss: 0.1290 - accuracy: 0.9796 - val_loss: 0.4060 - val_accuracy: 0.9539\n",
      "Epoch 8/20\n",
      "235/235 [==============================] - 13s 55ms/step - loss: 0.1358 - accuracy: 0.9807 - val_loss: 0.3261 - val_accuracy: 0.9669\n",
      "Epoch 9/20\n",
      "235/235 [==============================] - 16s 68ms/step - loss: 0.1201 - accuracy: 0.9822 - val_loss: 0.3289 - val_accuracy: 0.9697\n",
      "Epoch 10/20\n",
      "235/235 [==============================] - 16s 66ms/step - loss: 0.1074 - accuracy: 0.9852 - val_loss: 0.3565 - val_accuracy: 0.9710\n",
      "Epoch 11/20\n",
      "235/235 [==============================] - 12s 53ms/step - loss: 0.0972 - accuracy: 0.9863 - val_loss: 0.3397 - val_accuracy: 0.9701\n",
      "Epoch 12/20\n",
      "235/235 [==============================] - 9s 40ms/step - loss: 0.0951 - accuracy: 0.9876 - val_loss: 0.3684 - val_accuracy: 0.9706\n",
      "Epoch 13/20\n",
      "235/235 [==============================] - 10s 43ms/step - loss: 0.1061 - accuracy: 0.9880 - val_loss: 0.4873 - val_accuracy: 0.9719\n",
      "Epoch 14/20\n",
      "235/235 [==============================] - 10s 41ms/step - loss: 0.1065 - accuracy: 0.9883 - val_loss: 0.4578 - val_accuracy: 0.9734\n",
      "Epoch 15/20\n",
      "235/235 [==============================] - 9s 40ms/step - loss: 0.1007 - accuracy: 0.9895 - val_loss: 0.4913 - val_accuracy: 0.9737\n",
      "Epoch 16/20\n",
      "235/235 [==============================] - 11s 46ms/step - loss: 0.0935 - accuracy: 0.9898 - val_loss: 0.6331 - val_accuracy: 0.9737\n",
      "Epoch 17/20\n",
      "235/235 [==============================] - 10s 44ms/step - loss: 0.0891 - accuracy: 0.9901 - val_loss: 0.6431 - val_accuracy: 0.9690\n",
      "Epoch 18/20\n",
      "235/235 [==============================] - 9s 39ms/step - loss: 0.0864 - accuracy: 0.9910 - val_loss: 0.5995 - val_accuracy: 0.9743\n",
      "Epoch 19/20\n",
      "235/235 [==============================] - 15s 63ms/step - loss: 0.0791 - accuracy: 0.9921 - val_loss: 0.4935 - val_accuracy: 0.9776\n",
      "Epoch 20/20\n",
      "235/235 [==============================] - 19s 79ms/step - loss: 0.0835 - accuracy: 0.9925 - val_loss: 0.6581 - val_accuracy: 0.9779\n",
      "313/313 [==============================] - 2s 6ms/step - loss: 0.6581 - accuracy: 0.9779\n",
      "Evaluation result on Test Data : Loss = 0.658123791217804, accuracy = 0.9779000282287598\n"
     ]
    }
   ],
   "source": [
    "#4th question\n",
    "(train_images,train_labels),(test_images, test_labels) = mnist.load_data()\n",
    "\n",
    "\n",
    "#process the data\n",
    "#1. convert each image of shape 28*28 to 784 dimensional which will be fed to the network as a single feature\n",
    "dimData = np.prod(train_images.shape[1:])\n",
    "train_data = train_images.reshape(train_images.shape[0],dimData)\n",
    "test_data = test_images.reshape(test_images.shape[0],dimData)\n",
    "\n",
    "#convert data to float and scale values between 0 and 1\n",
    "train_data = train_data.astype('float')\n",
    "test_data = test_data.astype('float')\n",
    "#scale data\n",
    "# train_data /=255.0\n",
    "# test_data /=255.0\n",
    "#change the labels frominteger to one-hot encoding\n",
    "train_labels_one_hot = to_categorical(train_labels)\n",
    "test_labels_one_hot = to_categorical(test_labels)\n",
    "\n",
    "#creating network\n",
    "model = Sequential()\n",
    "model.add(Dense(512, activation='relu', input_shape=(dimData,)))\n",
    "model.add(Dense(512, activation='relu'))\n",
    "model.add(Dense(10, activation='softmax'))\n",
    "\n",
    "model.compile(optimizer='rmsprop', loss='categorical_crossentropy', metrics=['accuracy'])\n",
    "history = model.fit(train_data, train_labels_one_hot, batch_size=256, epochs=20, verbose=1,\n",
    "                   validation_data=(test_data, test_labels_one_hot))\n",
    "\n",
    "[test_loss, test_acc] = model.evaluate(test_data, test_labels_one_hot)\n",
    "print(\"Evaluation result on Test Data : Loss = {}, accuracy = {}\".format(test_loss, test_acc))\n"
   ]
  }
 ],
 "metadata": {
  "kernelspec": {
   "display_name": "Python 3",
   "language": "python",
   "name": "python3"
  },
  "language_info": {
   "codemirror_mode": {
    "name": "ipython",
    "version": 3
   },
   "file_extension": ".py",
   "mimetype": "text/x-python",
   "name": "python",
   "nbconvert_exporter": "python",
   "pygments_lexer": "ipython3",
   "version": "3.7.6"
  }
 },
 "nbformat": 4,
 "nbformat_minor": 4
}
