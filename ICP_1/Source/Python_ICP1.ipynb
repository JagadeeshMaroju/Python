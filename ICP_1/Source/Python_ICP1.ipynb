{
 "cells": [
  {
   "cell_type": "code",
   "execution_count": 1,
   "metadata": {},
   "outputs": [
    {
     "name": "stdout",
     "output_type": "stream",
     "text": [
      "enter string:python\n",
      "noh\n"
     ]
    }
   ],
   "source": [
    "strValue = input('enter string:')\n",
    "print(strValue.replace(strValue[0:3],\"\")[::-1])"
   ]
  },
  {
   "cell_type": "code",
   "execution_count": 3,
   "metadata": {},
   "outputs": [
    {
     "name": "stdout",
     "output_type": "stream",
     "text": [
      "enter first number for additon:2\n",
      "enter second number for additon:3\n",
      "sum is :5\n"
     ]
    }
   ],
   "source": [
    "num1 = input('enter first number for additon:')\n",
    "num2 = input('enter second number for additon:')\n",
    "try:\n",
    " fNum = int(num1)\n",
    " sNum = int(num2)\n",
    " print('sum is :' + str(fNum + sNum))\n",
    "except ValueError:\n",
    " print('Please enter an integer')"
   ]
  },
  {
   "cell_type": "code",
   "execution_count": 5,
   "metadata": {},
   "outputs": [
    {
     "name": "stdout",
     "output_type": "stream",
     "text": [
      "enter a sentense:python is very flexible to learn and python is a nice to play with it\n",
      "pythons is very flexible to learn and pythons is a nice to play with it\n"
     ]
    }
   ],
   "source": [
    "inputString = input('enter a sentense:')\n",
    "print(inputString.replace('python','pythons'))"
   ]
  },
  {
   "cell_type": "code",
   "execution_count": null,
   "metadata": {},
   "outputs": [],
   "source": []
  },
  {
   "cell_type": "code",
   "execution_count": null,
   "metadata": {},
   "outputs": [],
   "source": []
  }
 ],
 "metadata": {
  "kernelspec": {
   "display_name": "Python 3",
   "language": "python",
   "name": "python3"
  },
  "language_info": {
   "codemirror_mode": {
    "name": "ipython",
    "version": 3
   },
   "file_extension": ".py",
   "mimetype": "text/x-python",
   "name": "python",
   "nbconvert_exporter": "python",
   "pygments_lexer": "ipython3",
   "version": "3.7.6"
  }
 },
 "nbformat": 4,
 "nbformat_minor": 4
}
