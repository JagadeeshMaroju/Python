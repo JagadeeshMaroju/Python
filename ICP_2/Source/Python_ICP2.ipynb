{
 "cells": [
  {
   "cell_type": "code",
   "execution_count": 11,
   "metadata": {},
   "outputs": [
    {
     "name": "stdout",
     "output_type": "stream",
     "text": [
      "enter number of students for weights to converted:4\n",
      "enter student0weight in lbs:150\n",
      "enter student1weight in lbs:155\n",
      "enter student2weight in lbs:145\n",
      "enter student3weight in lbs:148\n",
      "[150, 155, 145, 148]\n",
      "weights in kgs:[68.0388, 70.30676, 65.77083999999999, 67.131616]\n"
     ]
    }
   ],
   "source": [
    "numOfStudentsFromUser = input(\"enter number of students for weights to converted:\")\n",
    "numOfStudents = int(numOfStudentsFromUser)\n",
    "weight_list = []\n",
    "for i in range(numOfStudents):\n",
    "    weight = input(\"enter student\" + str(i) + \" weight in lbs:\")\n",
    "    try:\n",
    "     weightinInt = int(weight)\n",
    "     weight_list.append(weightinInt)\n",
    "    except:\n",
    "        print(\"enter an integer\")\n",
    "\n",
    "print(weight_list)\n",
    "weght_list_kgs = []\n",
    "for weight in weight_list:\n",
    "    weight_kg = weight * 0.453592\n",
    "    weght_list_kgs.append(weight_kg)\n",
    "\n",
    "print(\"weights in kgs:\" + str(weght_list_kgs))\n",
    "    \n",
    "    \n",
    "     "
   ]
  },
  {
   "cell_type": "code",
   "execution_count": 20,
   "metadata": {},
   "outputs": [
    {
     "name": "stdout",
     "output_type": "stream",
     "text": [
      "Enter a stringGood Evening\n",
      "Go vnn\n"
     ]
    }
   ],
   "source": [
    "def string_alternative(inputString):\n",
    " print(inputString[::2]) #return from begining to position 2\n",
    "\n",
    "if __name__ == \"__main__\":\n",
    "  inputString = input(\"Enter a string\")\n",
    "  string_alternative(inputString)"
   ]
  },
  {
   "cell_type": "code",
   "execution_count": 99,
   "metadata": {},
   "outputs": [
    {
     "name": "stdout",
     "output_type": "stream",
     "text": [
      "{'Python': 1, 'Course': 2, 'Deep': 1, 'Learning': 1}\n"
     ]
    }
   ],
   "source": [
    "from collections import Counter\n",
    "with open('C:/Users/jagad/Desktop/sample.txt.txt', 'r') as file:\n",
    "    data = file.read().replace('\\n', ' ')\n",
    "d = dict(Counter(data.split()))\n",
    "print(d)\n",
    "\n",
    "with open('OuptutFilePython.txt', 'w') as file:\n",
    "    file.write(str(d))"
   ]
  },
  {
   "cell_type": "code",
   "execution_count": null,
   "metadata": {},
   "outputs": [],
   "source": []
  }
 ],
 "metadata": {
  "kernelspec": {
   "display_name": "Python 3",
   "language": "python",
   "name": "python3"
  },
  "language_info": {
   "codemirror_mode": {
    "name": "ipython",
    "version": 3
   },
   "file_extension": ".py",
   "mimetype": "text/x-python",
   "name": "python",
   "nbconvert_exporter": "python",
   "pygments_lexer": "ipython3",
   "version": "3.7.6"
  }
 },
 "nbformat": 4,
 "nbformat_minor": 4
}
