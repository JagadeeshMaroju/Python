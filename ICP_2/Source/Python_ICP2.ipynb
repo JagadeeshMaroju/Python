{
 "cells": [
  {
   "cell_type": "code",
   "execution_count": 105,
   "metadata": {},
   "outputs": [
    {
     "name": "stdout",
     "output_type": "stream",
     "text": [
      "enter number of students for weights to converted:4\n",
      "enter student0 weight in lbs:155\n",
      "enter student1 weight in lbs:148\n",
      "enter student2 weight in lbs:123\n",
      "enter student3 weight in lbs:124\n",
      "[155, 148, 123, 124]\n",
      "weights in kgs:[70.30676, 67.131616, 55.791816, 56.245408]\n",
      "[70.30676, 67.131616, 55.791816, 56.245408]\n"
     ]
    }
   ],
   "source": [
    "numOfStudentsFromUser = input(\"enter number of students for weights to converted:\")\n",
    "numOfStudents = int(numOfStudentsFromUser)\n",
    "weight_list = []\n",
    "for i in range(numOfStudents):\n",
    "    weight = input(\"enter student\" + str(i) + \" weight in lbs:\")\n",
    "    try:\n",
    "     weightinInt = int(weight)\n",
    "     weight_list.append(weightinInt)\n",
    "    except:\n",
    "        print(\"enter an integer\")\n",
    "\n",
    "print(weight_list)\n",
    "weght_list_kgs = []\n",
    "for weight in weight_list:\n",
    "    weight_kg = weight * 0.453592\n",
    "    weght_list_kgs.append(weight_kg)\n",
    "\n",
    "print(\"weights in kgs:\" + str(weght_list_kgs))\n",
    "\n",
    "#list comprehension\n",
    "WeightKgs=[i*0.453592 for i in weight_list]\n",
    "print(WeightKgs)\n",
    "\n",
    "    \n",
    "    \n",
    "     "
   ]
  },
  {
   "cell_type": "code",
   "execution_count": 20,
   "metadata": {},
   "outputs": [
    {
     "name": "stdout",
     "output_type": "stream",
     "text": [
      "Enter a stringGood Evening\n",
      "Go vnn\n"
     ]
    }
   ],
   "source": [
    "def string_alternative(inputString):\n",
    " print(inputString[::2]) #return from begining to position 2\n",
    "\n",
    "if __name__ == \"__main__\":\n",
    "  inputString = input(\"Enter a string\")\n",
    "  string_alternative(inputString)"
   ]
  },
  {
   "cell_type": "code",
   "execution_count": 99,
   "metadata": {},
   "outputs": [
    {
     "name": "stdout",
     "output_type": "stream",
     "text": [
      "{'Python': 1, 'Course': 2, 'Deep': 1, 'Learning': 1}\n"
     ]
    }
   ],
   "source": [
    "from collections import Counter\n",
    "with open('C:/Users/jagad/Desktop/sample.txt.txt', 'r') as file:\n",
    "    data = file.read().replace('\\n', ' ')\n",
    "d = dict(Counter(data.split()))\n",
    "print(d)\n",
    "\n",
    "with open('OuptutFilePython.txt', 'w') as file:\n",
    "    file.write(str(d))"
   ]
  },
  {
   "cell_type": "code",
   "execution_count": 103,
   "metadata": {},
   "outputs": [
    {
     "name": "stdout",
     "output_type": "stream",
     "text": [
      "{'python': 1, 'course': 2, 'deep': 1, 'learning': 1}\n"
     ]
    }
   ],
   "source": [
    "outPut={}\n",
    "with open('C:/Users/jagad/Desktop/sample.txt.txt', 'r') as file:\n",
    "    for l in file:\n",
    "        wordlist=l.split()\n",
    "        for word in wordlist:\n",
    "            if word.lower() in outPut:\n",
    "                outPut[word.lower()]+=1\n",
    "            else:\n",
    "                outPut[word.lower()]=1\n",
    "print(outPut)\n",
    "wordfile=open('textfile.txt','w')\n",
    "for key,val in outPut.items():\n",
    "    wordfile.write(\"{} {}\\n\".format(key,val))\n",
    "wordfile.close()"
   ]
  },
  {
   "cell_type": "code",
   "execution_count": null,
   "metadata": {},
   "outputs": [],
   "source": []
  }
 ],
 "metadata": {
  "kernelspec": {
   "display_name": "Python 3",
   "language": "python",
   "name": "python3"
  },
  "language_info": {
   "codemirror_mode": {
    "name": "ipython",
    "version": 3
   },
   "file_extension": ".py",
   "mimetype": "text/x-python",
   "name": "python",
   "nbconvert_exporter": "python",
   "pygments_lexer": "ipython3",
   "version": "3.7.6"
  }
 },
 "nbformat": 4,
 "nbformat_minor": 4
}
